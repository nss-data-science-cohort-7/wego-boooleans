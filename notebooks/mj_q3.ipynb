{
 "cells": [
  {
   "cell_type": "code",
   "execution_count": 1,
   "id": "6f9ce159",
   "metadata": {},
   "outputs": [],
   "source": [
    "import pandas as pd \n",
    "import numpy as np \n",
    "import scipy.stats as stats\n",
    "from scipy.stats import pearsonr\n",
    "import pandas as pd\n",
    "import statsmodels.api as sm\n",
    "import statsmodels.formula.api as smf\n",
    "import numpy as np\n",
    "import matplotlib.pyplot as plt\n",
    "from datetime import datetime"
   ]
  },
  {
   "cell_type": "markdown",
   "id": "3ae87a74",
   "metadata": {},
   "source": [
    "**3. How closely does lateness (ADHERENCE) correlate to headway?**"
   ]
  },
  {
   "cell_type": "markdown",
   "id": "3aa8e64d",
   "metadata": {},
   "source": [
    "Independent variable belongs on the x-axis and dependent variable belongs on the y-axis.\n",
    "\n",
    "- Target/ dependent variable (variable you're trying to predict) - headway deviation.\n",
    "- Predictor/ independent variable (variable you use to make prediction) - adherence. "
   ]
  },
  {
   "cell_type": "markdown",
   "id": "8179ace8",
   "metadata": {},
   "source": [
    "Reminder that: \n",
    "- ADHERENCE: Difference between actual departure time and scheduled time; negative indicates departure time after scheduled time and positive indicates departure time before scheduled time.\n",
    "- HDWY_DEV: calculates headway deviation in minutes as the difference between actual and scheduled headway. Negative values indicate a shorter headway than scheduled (i.e. bunching) and positive values indicate a longer headway than scheduled (i.e. gapping). "
   ]
  },
  {
   "cell_type": "code",
   "execution_count": 2,
   "id": "132fe64a",
   "metadata": {
    "scrolled": true
   },
   "outputs": [
    {
     "data": {
      "text/html": [
       "<div>\n",
       "<style scoped>\n",
       "    .dataframe tbody tr th:only-of-type {\n",
       "        vertical-align: middle;\n",
       "    }\n",
       "\n",
       "    .dataframe tbody tr th {\n",
       "        vertical-align: top;\n",
       "    }\n",
       "\n",
       "    .dataframe thead th {\n",
       "        text-align: right;\n",
       "    }\n",
       "</style>\n",
       "<table border=\"1\" class=\"dataframe\">\n",
       "  <thead>\n",
       "    <tr style=\"text-align: right;\">\n",
       "      <th></th>\n",
       "      <th>CALENDAR_ID</th>\n",
       "      <th>SERVICE_ABBR</th>\n",
       "      <th>ADHERENCE_ID</th>\n",
       "      <th>DATE</th>\n",
       "      <th>ROUTE_ABBR</th>\n",
       "      <th>BLOCK_ABBR</th>\n",
       "      <th>OPERATOR</th>\n",
       "      <th>TRIP_ID</th>\n",
       "      <th>OVERLOAD_ID</th>\n",
       "      <th>ROUTE_DIRECTION_NAME</th>\n",
       "      <th>...</th>\n",
       "      <th>HDWY_DEV</th>\n",
       "      <th>ADJUSTED_EARLY_COUNT</th>\n",
       "      <th>ADJUSTED_LATE_COUNT</th>\n",
       "      <th>ADJUSTED_ONTIME_COUNT</th>\n",
       "      <th>STOP_CANCELLED</th>\n",
       "      <th>PREV_SCHED_STOP_CANCELLED</th>\n",
       "      <th>IS_RELIEF</th>\n",
       "      <th>BLOCK_STOP_ORDER</th>\n",
       "      <th>DWELL_IN_MINS</th>\n",
       "      <th>HDWY_DEV_PERC</th>\n",
       "    </tr>\n",
       "  </thead>\n",
       "  <tbody>\n",
       "    <tr>\n",
       "      <th>0</th>\n",
       "      <td>120230801</td>\n",
       "      <td>1</td>\n",
       "      <td>99457897</td>\n",
       "      <td>2023-08-01</td>\n",
       "      <td>22</td>\n",
       "      <td>2200</td>\n",
       "      <td>1040</td>\n",
       "      <td>345106</td>\n",
       "      <td>0</td>\n",
       "      <td>TO DOWNTOWN</td>\n",
       "      <td>...</td>\n",
       "      <td>2.666666</td>\n",
       "      <td>0</td>\n",
       "      <td>0</td>\n",
       "      <td>1</td>\n",
       "      <td>0</td>\n",
       "      <td>0.0</td>\n",
       "      <td>0</td>\n",
       "      <td>63</td>\n",
       "      <td>13.216666</td>\n",
       "      <td>0.076190</td>\n",
       "    </tr>\n",
       "    <tr>\n",
       "      <th>1</th>\n",
       "      <td>120230801</td>\n",
       "      <td>1</td>\n",
       "      <td>99457898</td>\n",
       "      <td>2023-08-01</td>\n",
       "      <td>22</td>\n",
       "      <td>2200</td>\n",
       "      <td>1040</td>\n",
       "      <td>345106</td>\n",
       "      <td>0</td>\n",
       "      <td>TO DOWNTOWN</td>\n",
       "      <td>...</td>\n",
       "      <td>1.966666</td>\n",
       "      <td>0</td>\n",
       "      <td>0</td>\n",
       "      <td>1</td>\n",
       "      <td>0</td>\n",
       "      <td>0.0</td>\n",
       "      <td>0</td>\n",
       "      <td>70</td>\n",
       "      <td>0.000000</td>\n",
       "      <td>0.056190</td>\n",
       "    </tr>\n",
       "    <tr>\n",
       "      <th>2</th>\n",
       "      <td>120230801</td>\n",
       "      <td>1</td>\n",
       "      <td>99457899</td>\n",
       "      <td>2023-08-01</td>\n",
       "      <td>22</td>\n",
       "      <td>2200</td>\n",
       "      <td>1040</td>\n",
       "      <td>345106</td>\n",
       "      <td>0</td>\n",
       "      <td>TO DOWNTOWN</td>\n",
       "      <td>...</td>\n",
       "      <td>-0.483334</td>\n",
       "      <td>0</td>\n",
       "      <td>0</td>\n",
       "      <td>1</td>\n",
       "      <td>0</td>\n",
       "      <td>0.0</td>\n",
       "      <td>0</td>\n",
       "      <td>80</td>\n",
       "      <td>0.000000</td>\n",
       "      <td>-0.032222</td>\n",
       "    </tr>\n",
       "    <tr>\n",
       "      <th>3</th>\n",
       "      <td>120230801</td>\n",
       "      <td>1</td>\n",
       "      <td>99457901</td>\n",
       "      <td>2023-08-01</td>\n",
       "      <td>22</td>\n",
       "      <td>2200</td>\n",
       "      <td>1040</td>\n",
       "      <td>345107</td>\n",
       "      <td>0</td>\n",
       "      <td>FROM DOWNTOWN</td>\n",
       "      <td>...</td>\n",
       "      <td>-2.166667</td>\n",
       "      <td>0</td>\n",
       "      <td>0</td>\n",
       "      <td>1</td>\n",
       "      <td>0</td>\n",
       "      <td>0.0</td>\n",
       "      <td>0</td>\n",
       "      <td>97</td>\n",
       "      <td>10.800000</td>\n",
       "      <td>-0.144444</td>\n",
       "    </tr>\n",
       "    <tr>\n",
       "      <th>4</th>\n",
       "      <td>120230801</td>\n",
       "      <td>1</td>\n",
       "      <td>99457902</td>\n",
       "      <td>2023-08-01</td>\n",
       "      <td>22</td>\n",
       "      <td>2200</td>\n",
       "      <td>1040</td>\n",
       "      <td>345107</td>\n",
       "      <td>0</td>\n",
       "      <td>FROM DOWNTOWN</td>\n",
       "      <td>...</td>\n",
       "      <td>-3.883334</td>\n",
       "      <td>1</td>\n",
       "      <td>0</td>\n",
       "      <td>0</td>\n",
       "      <td>0</td>\n",
       "      <td>0.0</td>\n",
       "      <td>0</td>\n",
       "      <td>112</td>\n",
       "      <td>0.000000</td>\n",
       "      <td>-0.258889</td>\n",
       "    </tr>\n",
       "  </tbody>\n",
       "</table>\n",
       "<p>5 rows × 31 columns</p>\n",
       "</div>"
      ],
      "text/plain": [
       "   CALENDAR_ID  SERVICE_ABBR  ADHERENCE_ID        DATE  ROUTE_ABBR  \\\n",
       "0    120230801             1      99457897  2023-08-01          22   \n",
       "1    120230801             1      99457898  2023-08-01          22   \n",
       "2    120230801             1      99457899  2023-08-01          22   \n",
       "3    120230801             1      99457901  2023-08-01          22   \n",
       "4    120230801             1      99457902  2023-08-01          22   \n",
       "\n",
       "   BLOCK_ABBR  OPERATOR  TRIP_ID  OVERLOAD_ID ROUTE_DIRECTION_NAME  ...  \\\n",
       "0        2200      1040   345106            0          TO DOWNTOWN  ...   \n",
       "1        2200      1040   345106            0          TO DOWNTOWN  ...   \n",
       "2        2200      1040   345106            0          TO DOWNTOWN  ...   \n",
       "3        2200      1040   345107            0        FROM DOWNTOWN  ...   \n",
       "4        2200      1040   345107            0        FROM DOWNTOWN  ...   \n",
       "\n",
       "   HDWY_DEV  ADJUSTED_EARLY_COUNT  ADJUSTED_LATE_COUNT  ADJUSTED_ONTIME_COUNT  \\\n",
       "0  2.666666                     0                    0                      1   \n",
       "1  1.966666                     0                    0                      1   \n",
       "2 -0.483334                     0                    0                      1   \n",
       "3 -2.166667                     0                    0                      1   \n",
       "4 -3.883334                     1                    0                      0   \n",
       "\n",
       "   STOP_CANCELLED PREV_SCHED_STOP_CANCELLED IS_RELIEF BLOCK_STOP_ORDER  \\\n",
       "0               0                       0.0         0               63   \n",
       "1               0                       0.0         0               70   \n",
       "2               0                       0.0         0               80   \n",
       "3               0                       0.0         0               97   \n",
       "4               0                       0.0         0              112   \n",
       "\n",
       "   DWELL_IN_MINS  HDWY_DEV_PERC  \n",
       "0      13.216666       0.076190  \n",
       "1       0.000000       0.056190  \n",
       "2       0.000000      -0.032222  \n",
       "3      10.800000      -0.144444  \n",
       "4       0.000000      -0.258889  \n",
       "\n",
       "[5 rows x 31 columns]"
      ]
     },
     "execution_count": 2,
     "metadata": {},
     "output_type": "execute_result"
    }
   ],
   "source": [
    "headway_data = pd.read_csv(\"../data/headway_data.csv\", delimiter = '\\t')\n",
    "headway_data.head(5)"
   ]
  },
  {
   "cell_type": "markdown",
   "id": "56d42f62",
   "metadata": {},
   "source": [
    "**Correlation Coefficient**"
   ]
  },
  {
   "cell_type": "code",
   "execution_count": 3,
   "id": "d5e0f874",
   "metadata": {},
   "outputs": [
    {
     "name": "stdout",
     "output_type": "stream",
     "text": [
      "-0.20682243927838492\n",
      "nan\n"
     ]
    }
   ],
   "source": [
    "# comparing to 'actual headway'\n",
    "corr = headway_data['ADHERENCE'].corr(headway_data['HDWY_DEV'])\n",
    "\n",
    "# comparing to 'headway deviation percentage'\n",
    "corr2 = headway_data['ADHERENCE'].corr(headway_data['HDWY_DEV_PERC'])\n",
    "print(corr)\n",
    "print(corr2)"
   ]
  },
  {
   "cell_type": "code",
   "execution_count": 4,
   "id": "b7c0c018",
   "metadata": {},
   "outputs": [
    {
     "name": "stdout",
     "output_type": "stream",
     "text": [
      "Pearson Correlation Coefficient: -0.20682243927838445\n"
     ]
    }
   ],
   "source": [
    "# Calculate the Pearson correlation coefficient\n",
    "correlation_coefficient, p_value = pearsonr(headway_data['ADHERENCE'], headway_data['HDWY_DEV'])\n",
    "\n",
    "# Print the correlation coefficient\n",
    "print(f\"Pearson Correlation Coefficient: {correlation_coefficient}\")"
   ]
  },
  {
   "cell_type": "markdown",
   "id": "4500509a",
   "metadata": {},
   "source": [
    "There seems to be a weak inverse relationship between ADHERENCE (amount of time was early or behind departure schedule) and HDWY_DEV (amount of time you wait at a stop in between buses). The negative means that as one variable increases, the other tends to decrease and vice versa. "
   ]
  },
  {
   "cell_type": "markdown",
   "id": "5805fc42",
   "metadata": {},
   "source": [
    "**Scatter Plots** - Work with a subset of the data"
   ]
  },
  {
   "cell_type": "code",
   "execution_count": 5,
   "id": "7936617d",
   "metadata": {
    "scrolled": true
   },
   "outputs": [
    {
     "ename": "NameError",
     "evalue": "name 'subset' is not defined",
     "output_type": "error",
     "traceback": [
      "\u001b[1;31m---------------------------------------------------------------------------\u001b[0m",
      "\u001b[1;31mNameError\u001b[0m                                 Traceback (most recent call last)",
      "Cell \u001b[1;32mIn[5], line 1\u001b[0m\n\u001b[1;32m----> 1\u001b[0m subset\u001b[38;5;241m.\u001b[39mplot\u001b[38;5;241m.\u001b[39mscatter(x \u001b[38;5;241m=\u001b[39m \u001b[38;5;124m'\u001b[39m\u001b[38;5;124mADHERENCE\u001b[39m\u001b[38;5;124m'\u001b[39m, y \u001b[38;5;241m=\u001b[39m \u001b[38;5;124m'\u001b[39m\u001b[38;5;124mHDWY_DEV\u001b[39m\u001b[38;5;124m'\u001b[39m, s \u001b[38;5;241m=\u001b[39m \u001b[38;5;241m20\u001b[39m, color \u001b[38;5;241m=\u001b[39m \u001b[38;5;124m'\u001b[39m\u001b[38;5;124m#88c999\u001b[39m\u001b[38;5;124m'\u001b[39m)\n",
      "\u001b[1;31mNameError\u001b[0m: name 'subset' is not defined"
     ]
    }
   ],
   "source": [
    "subset.plot.scatter(x = 'ADHERENCE', y = 'HDWY_DEV', s = 20, color = '#88c999'); "
   ]
  },
  {
   "cell_type": "code",
   "execution_count": null,
   "id": "e039e802",
   "metadata": {
    "scrolled": true
   },
   "outputs": [],
   "source": [
    "# Filter the DataFrame for positive and neutral adherence values\n",
    "positive_adherence = subset[subset['ADHERENCE'] > 1]\n",
    "neutral_adherence = subset[(subset['ADHERENCE'] > -1) & (subset['ADHERENCE'] < 1)]\n",
    "negative_adherence = subset[subset['ADHERENCE'] < -1]\n",
    "\n",
    "# Calculate statistics for both subsets\n",
    "positive_stats = positive_adherence['HDWY_DEV'].describe()\n",
    "neutral_stats = neutral_adherence['HDWY_DEV'].describe()\n",
    "negative_stats = negative_adherence['HDWY_DEV'].describe()\n",
    "\n",
    "# Create a DataFrame with the combined statistics\n",
    "sample_adherence_stats = pd.DataFrame({\n",
    "    'Adherence Type': ['Positive', 'Neutral', 'Negative'],\n",
    "    'Count': [positive_stats['count'], neutral_stats['count'], negative_stats['count']],\n",
    "    'Mean': [positive_stats['mean'], neutral_stats['mean'], negative_stats['mean']],\n",
    "    'Std': [positive_stats['std'], neutral_stats['std'], negative_stats['std']],\n",
    "    'Min': [positive_stats['min'], neutral_stats['min'], negative_stats['min']],\n",
    "    '25%': [positive_stats['25%'], neutral_stats['25%'], negative_stats['25%']],\n",
    "    '50%': [positive_stats['50%'], neutral_stats['50%'], negative_stats['50%']],\n",
    "    '75%': [positive_stats['75%'], neutral_stats['75%'], negative_stats['75%']],\n",
    "    'Max': [positive_stats['max'], neutral_stats['max'], negative_stats['max']]\n",
    "})\n",
    "\n",
    "# Display the DataFrame\n",
    "sample_adherence_stats"
   ]
  },
  {
   "cell_type": "code",
   "execution_count": null,
   "id": "e48c6ee5",
   "metadata": {
    "scrolled": true
   },
   "outputs": [],
   "source": [
    "subset = headway_data.iloc[:49]\n",
    "subset.to_csv('../data/subset.csv', sep='\\t' , index=False)\n",
    "subset.head(3)"
   ]
  },
  {
   "cell_type": "markdown",
   "id": "dc6e1a8d",
   "metadata": {},
   "source": [
    "This graphs shows that: \n",
    "- When the bus leaves before the scheduled departure time (positive ADHERENCE), the average time in minutes between the actual and scheduled headway (HDWY_DEV) is 4 minutes shorter (negative HDWY_DEV). \n",
    "- When the bus leaves about on time (neutral adherence), the avg waiting time between buses decreases by 1 min and a half (neg HDWY_DEV). \n",
    "- When the bus leaves after the scheduled departure time (negative ADHERENCE), the avg waiting time between is about the same (neutral HDWY_DEV). "
   ]
  },
  {
   "cell_type": "markdown",
   "id": "8b1ec563",
   "metadata": {},
   "source": [
    "**Scatter Plots** - Apply this to original data"
   ]
  },
  {
   "cell_type": "code",
   "execution_count": null,
   "id": "7d6d5f19",
   "metadata": {
    "scrolled": false
   },
   "outputs": [],
   "source": [
    "headway_data.plot.scatter(x = 'ADHERENCE', y = 'HDWY_DEV', s = 20, color = 'c'); #cyan"
   ]
  },
  {
   "cell_type": "code",
   "execution_count": null,
   "id": "3650b4dc",
   "metadata": {
    "scrolled": true
   },
   "outputs": [],
   "source": [
    "# Filter the DataFrame for positive and neutral adherence values\n",
    "positive_adherence = headway_data[headway_data['ADHERENCE'] > 1]\n",
    "neutral_adherence = headway_data[(headway_data['ADHERENCE'] > -1) & (headway_data['ADHERENCE'] < 1)]\n",
    "negative_adherence = headway_data[headway_data['ADHERENCE'] < -1]\n",
    "\n",
    "# Calculate statistics for both subsets\n",
    "positive_stats = positive_adherence['HDWY_DEV'].describe()\n",
    "neutral_stats = neutral_adherence['HDWY_DEV'].describe()\n",
    "negative_stats = negative_adherence['HDWY_DEV'].describe()\n",
    "\n",
    "# Create a DataFrame with the combined statistics\n",
    "adherence_stats = pd.DataFrame({\n",
    "    'Adherence Type': ['Positive', 'Neutral', 'Negative'],\n",
    "    'Count': [positive_stats['count'], neutral_stats['count'], negative_stats['count']],\n",
    "    'Mean': [positive_stats['mean'], neutral_stats['mean'], negative_stats['mean']],\n",
    "    'Std': [positive_stats['std'], neutral_stats['std'], negative_stats['std']],\n",
    "    'Min': [positive_stats['min'], neutral_stats['min'], negative_stats['min']],\n",
    "    '25%': [positive_stats['25%'], neutral_stats['25%'], negative_stats['25%']],\n",
    "    '50%': [positive_stats['50%'], neutral_stats['50%'], negative_stats['50%']],\n",
    "    '75%': [positive_stats['75%'], neutral_stats['75%'], negative_stats['75%']],\n",
    "    'Max': [positive_stats['max'], neutral_stats['max'], negative_stats['max']]\n",
    "})\n",
    "\n",
    "# Display the DataFrame\n",
    "adherence_stats"
   ]
  },
  {
   "cell_type": "markdown",
   "id": "31d73ad1",
   "metadata": {},
   "source": [
    "**Linear Regression Model**\n",
    "\n",
    "lm = smf.ols('target variable ~ predictor variable', data = df).fit()\n",
    "\n",
    "lm.summary()"
   ]
  },
  {
   "cell_type": "code",
   "execution_count": null,
   "id": "d082232b",
   "metadata": {},
   "outputs": [],
   "source": [
    "lm = smf.ols('HDWY_DEV ~ ADHERENCE', data = headway_data).fit()\n",
    "lm.summary()"
   ]
  },
  {
   "cell_type": "markdown",
   "id": "463be285",
   "metadata": {},
   "source": [
    "The **intercept** is the predicted value of 'HDWY_DEV' when 'ADHERENCE' is zero.\n",
    "\n",
    "For every one-minute change in 'ADHERENCE', 'HDWY_DEV' is expected to change by approximately -0.2279 minutes (or about 13.7 seconds) . The negative sign means that as 'ADHERENCE' increases (the bus leaves before the scehduled time), 'HDWY_DEV' is expected to decrease (become more negative).\n",
    "\n",
    "In other words, as 'HDWY_DEV' becomes more negative (indicating shorter headway than scheduled, i.e., bunching), 'ADHERENCE' is expected to decrease, suggesting that adherence tends to be worse when buses are bunched. Conversely, when 'HDWY_DEV' becomes more positive (indicating longer headway than scheduled, i.e., gapping), 'ADHERENCE' is expected to increase, suggesting that adherence tends to be better when buses are more spaced out."
   ]
  },
  {
   "cell_type": "code",
   "execution_count": null,
   "id": "5a92ece4",
   "metadata": {},
   "outputs": [],
   "source": []
  }
 ],
 "metadata": {
  "kernelspec": {
   "display_name": "Python 3 (ipykernel)",
   "language": "python",
   "name": "python3"
  },
  "language_info": {
   "codemirror_mode": {
    "name": "ipython",
    "version": 3
   },
   "file_extension": ".py",
   "mimetype": "text/x-python",
   "name": "python",
   "nbconvert_exporter": "python",
   "pygments_lexer": "ipython3",
   "version": "3.11.4"
  }
 },
 "nbformat": 4,
 "nbformat_minor": 5
}
